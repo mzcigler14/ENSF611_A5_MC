{
 "cells": [
  {
   "cell_type": "markdown",
   "id": "87fee377",
   "metadata": {},
   "source": [
    "# Assignment 5: PCA and Clustering (40 marks)\n",
    "### Due: December 6 at 11:59pm \n",
    "(Dropbox will remain open until December 8 at 11:59pm)\n",
    "\n",
    "### Name: Matjaz Cigler"
   ]
  },
  {
   "cell_type": "markdown",
   "id": "ba7f05d0",
   "metadata": {},
   "source": [
    "The purpose of this assignment is to practice using PCA and clustering techniques on a given dataset."
   ]
  },
  {
   "cell_type": "code",
   "execution_count": 128,
   "id": "be4299ae",
   "metadata": {},
   "outputs": [],
   "source": [
    "import numpy as np\n",
    "import pandas as pd\n",
    "import matplotlib.pyplot as plt\n",
    "import seaborn as sns"
   ]
  },
  {
   "cell_type": "markdown",
   "id": "3c84e8e3",
   "metadata": {},
   "source": [
    "## Part 1: Principle Component Analysis (PCA) (18 marks)"
   ]
  },
  {
   "cell_type": "markdown",
   "id": "fe7cfa4f",
   "metadata": {},
   "source": [
    "### Step 1. Load data (2 marks)\n",
    "\n",
    "You have been asked by an agricultural company to help them predict the type of wheat based on kernel characteristics. You have been given all the information you need in the seeds_dataset.txt file on D2L. The original dataset can be found [here](https://archive.ics.uci.edu/dataset/236/seeds)\n",
    "\n",
    "The first step is to read in the file using pandas and inspect the first few columns. Note that the data is in a text file, so the separator is different compared to a csv file."
   ]
  },
  {
   "cell_type": "code",
   "execution_count": 129,
   "id": "474481f1",
   "metadata": {},
   "outputs": [
    {
     "data": {
      "text/html": [
       "<div>\n",
       "<style scoped>\n",
       "    .dataframe tbody tr th:only-of-type {\n",
       "        vertical-align: middle;\n",
       "    }\n",
       "\n",
       "    .dataframe tbody tr th {\n",
       "        vertical-align: top;\n",
       "    }\n",
       "\n",
       "    .dataframe thead th {\n",
       "        text-align: right;\n",
       "    }\n",
       "</style>\n",
       "<table border=\"1\" class=\"dataframe\">\n",
       "  <thead>\n",
       "    <tr style=\"text-align: right;\">\n",
       "      <th></th>\n",
       "      <th>area</th>\n",
       "      <th>perimeter</th>\n",
       "      <th>compactness</th>\n",
       "      <th>length_of_kernal</th>\n",
       "      <th>width_of_kernal</th>\n",
       "      <th>asymmetry_of_kernal</th>\n",
       "      <th>length_of_kernal_groove</th>\n",
       "      <th>type</th>\n",
       "    </tr>\n",
       "  </thead>\n",
       "  <tbody>\n",
       "    <tr>\n",
       "      <th>0</th>\n",
       "      <td>15.26</td>\n",
       "      <td>14.84</td>\n",
       "      <td>0.8710</td>\n",
       "      <td>5.763</td>\n",
       "      <td>3.312</td>\n",
       "      <td>2.221</td>\n",
       "      <td>5.220</td>\n",
       "      <td>1</td>\n",
       "    </tr>\n",
       "    <tr>\n",
       "      <th>1</th>\n",
       "      <td>14.88</td>\n",
       "      <td>14.57</td>\n",
       "      <td>0.8811</td>\n",
       "      <td>5.554</td>\n",
       "      <td>3.333</td>\n",
       "      <td>1.018</td>\n",
       "      <td>4.956</td>\n",
       "      <td>1</td>\n",
       "    </tr>\n",
       "    <tr>\n",
       "      <th>2</th>\n",
       "      <td>14.29</td>\n",
       "      <td>14.09</td>\n",
       "      <td>0.9050</td>\n",
       "      <td>5.291</td>\n",
       "      <td>3.337</td>\n",
       "      <td>2.699</td>\n",
       "      <td>4.825</td>\n",
       "      <td>1</td>\n",
       "    </tr>\n",
       "    <tr>\n",
       "      <th>3</th>\n",
       "      <td>13.84</td>\n",
       "      <td>13.94</td>\n",
       "      <td>0.8955</td>\n",
       "      <td>5.324</td>\n",
       "      <td>3.379</td>\n",
       "      <td>2.259</td>\n",
       "      <td>4.805</td>\n",
       "      <td>1</td>\n",
       "    </tr>\n",
       "    <tr>\n",
       "      <th>4</th>\n",
       "      <td>16.14</td>\n",
       "      <td>14.99</td>\n",
       "      <td>0.9034</td>\n",
       "      <td>5.658</td>\n",
       "      <td>3.562</td>\n",
       "      <td>1.355</td>\n",
       "      <td>5.175</td>\n",
       "      <td>1</td>\n",
       "    </tr>\n",
       "  </tbody>\n",
       "</table>\n",
       "</div>"
      ],
      "text/plain": [
       "    area  perimeter  compactness  length_of_kernal  width_of_kernal  \\\n",
       "0  15.26      14.84       0.8710             5.763            3.312   \n",
       "1  14.88      14.57       0.8811             5.554            3.333   \n",
       "2  14.29      14.09       0.9050             5.291            3.337   \n",
       "3  13.84      13.94       0.8955             5.324            3.379   \n",
       "4  16.14      14.99       0.9034             5.658            3.562   \n",
       "\n",
       "   asymmetry_of_kernal  length_of_kernal_groove  type  \n",
       "0                2.221                    5.220     1  \n",
       "1                1.018                    4.956     1  \n",
       "2                2.699                    4.825     1  \n",
       "3                2.259                    4.805     1  \n",
       "4                1.355                    5.175     1  "
      ]
     },
     "execution_count": 129,
     "metadata": {},
     "output_type": "execute_result"
    }
   ],
   "source": [
    "# TODO: Import dataset and inspect the first five columns\n",
    "\n",
    "df = pd.read_csv('seeds_dataset.txt', delimiter= '\\t', header= None, names= \n",
    "                 [\"area\", \"perimeter\", \"compactness\", \"length_of_kernal\", \"width_of_kernal\",\n",
    "                  \"asymmetry_of_kernal\", \"length_of_kernal_groove\", \"type\"])\n",
    "df.head()"
   ]
  },
  {
   "cell_type": "markdown",
   "id": "c0453ae3",
   "metadata": {},
   "source": [
    "Next, you will need to separate the data into your feature matrix and target vector."
   ]
  },
  {
   "cell_type": "code",
   "execution_count": 130,
   "id": "15a5c76c",
   "metadata": {},
   "outputs": [
    {
     "name": "stdout",
     "output_type": "stream",
     "text": [
      "Shape X:  (210, 7)\n",
      "Shape y:  (210,)\n"
     ]
    }
   ],
   "source": [
    "# TODO: Separate the data into feature matrix and target vector. Print the shape of X and y\n",
    "X = df.iloc[:, :7]\n",
    "y = df.type\n",
    "print(\"Shape X: \", X.shape)\n",
    "print(\"Shape y: \", y.shape)"
   ]
  },
  {
   "cell_type": "markdown",
   "id": "e5024bec",
   "metadata": {},
   "source": [
    "### Step 2: Preprocessing (2 marks)"
   ]
  },
  {
   "cell_type": "markdown",
   "id": "f908b657",
   "metadata": {},
   "source": [
    "To preprocess the data, we will need to scale the data. Which scaler would you select and why? *(1 mark)* \n",
    "\n",
    "Because k-means clustering uses distance I will use StandardScalar."
   ]
  },
  {
   "cell_type": "markdown",
   "id": "c29892b5",
   "metadata": {},
   "source": [
    "Before we implement the scaler, we need to split the data into training and testing sets first."
   ]
  },
  {
   "cell_type": "code",
   "execution_count": 131,
   "id": "04f3a4bf",
   "metadata": {},
   "outputs": [],
   "source": [
    "# TODO: Split the data into training and testing sets\n",
    "from sklearn.model_selection import train_test_split\n",
    "\n",
    "X_train, X_val, y_train, y_val =  train_test_split(X, y, test_size=0.2, random_state=0)"
   ]
  },
  {
   "cell_type": "code",
   "execution_count": 132,
   "id": "f22529a6",
   "metadata": {},
   "outputs": [
    {
     "name": "stdout",
     "output_type": "stream",
     "text": [
      "Shape X_train:  (168, 7)\n",
      "Shape y_train:  (168,)\n"
     ]
    }
   ],
   "source": [
    "# TODO: Print the shape of the training feature matrix and target vector\n",
    "print(\"Shape X_train: \", X_train.shape)\n",
    "print(\"Shape y_train: \", y_train.shape)"
   ]
  },
  {
   "cell_type": "markdown",
   "id": "282cbc43",
   "metadata": {},
   "source": [
    "Now that we have our training data, we can implement our selected scaler."
   ]
  },
  {
   "cell_type": "code",
   "execution_count": 133,
   "id": "ed75b036",
   "metadata": {},
   "outputs": [],
   "source": [
    "# TODO: Scale the data\n",
    "\n",
    "from sklearn.preprocessing import StandardScaler\n",
    "scaler = StandardScaler()\n",
    "scaler.fit(X_train)\n",
    "\n",
    "X_train_scaled = scaler.transform(X_train)\n",
    "X_val_scaled = scaler.transform(X_val)"
   ]
  },
  {
   "cell_type": "markdown",
   "id": "8cfa23f3",
   "metadata": {},
   "source": [
    "### Step 3: Model Selection (1 mark)"
   ]
  },
  {
   "cell_type": "markdown",
   "id": "773d0687",
   "metadata": {},
   "source": [
    "The next step is to instantiate our selected model. In this case, we will be using `LogisticRegression()`"
   ]
  },
  {
   "cell_type": "code",
   "execution_count": 134,
   "id": "b79801bc",
   "metadata": {},
   "outputs": [],
   "source": [
    "# TODO: Instantiate model\n",
    "from sklearn.linear_model import LogisticRegression\n",
    "\n",
    "lin_model = LogisticRegression(max_iter= 10000).fit(X_train, y_train)\n",
    "\n"
   ]
  },
  {
   "cell_type": "markdown",
   "id": "2177add4",
   "metadata": {},
   "source": [
    "### Step 4: Validation (2 marks)"
   ]
  },
  {
   "cell_type": "markdown",
   "id": "4092329e",
   "metadata": {},
   "source": [
    "To validate the results, we need to use cross-validation. To make sure we are using the best hyperparmeters, we can use a grid search. The parameter grid has been provided below."
   ]
  },
  {
   "cell_type": "code",
   "execution_count": 135,
   "id": "d3e5cfe7",
   "metadata": {},
   "outputs": [],
   "source": [
    "param_grid = {'C': [0.01, 0.1, 1.0, 10.0],\n",
    "             'fit_intercept': [True, False]}"
   ]
  },
  {
   "cell_type": "code",
   "execution_count": 136,
   "id": "e0317e3f",
   "metadata": {},
   "outputs": [
    {
     "name": "stdout",
     "output_type": "stream",
     "text": [
      "Best Parameters {'C': 10.0, 'fit_intercept': True}\n",
      "Best Cross-Validation accuracy 0.95\n",
      "Test accuracy 0.95\n"
     ]
    }
   ],
   "source": [
    "#TODO: Implement the grid search and print the best parameters, cross-validation score and test score\n",
    "\n",
    "from sklearn.model_selection import GridSearchCV\n",
    "\n",
    "grid = GridSearchCV(lin_model, param_grid, cv=5)\n",
    "grid.fit(X_train_scaled, y_train)\n",
    "\n",
    "print(f'Best Parameters {grid.best_params_}')\n",
    "print(f'Best Cross-Validation accuracy {grid.best_score_:.2f}')\n",
    "print(f'Test accuracy {grid.score(X_val_scaled, y_val):.2f}')\n",
    "\n",
    "\n"
   ]
  },
  {
   "cell_type": "markdown",
   "id": "97cee662",
   "metadata": {},
   "source": [
    "### Step 5: Visualize using PCA (3 marks)"
   ]
  },
  {
   "cell_type": "markdown",
   "id": "4eed3fd7",
   "metadata": {},
   "source": [
    "Now you can visualize the results from Step 4 using PCA. Use the best parameters from the previous step to predict the label for the testing data. For the plot, each data point must be colored based on the class label."
   ]
  },
  {
   "cell_type": "code",
   "execution_count": 137,
   "id": "1dc2310c",
   "metadata": {},
   "outputs": [],
   "source": [
    "# TODO: Predict y labels using best estimator\n",
    "y_pred = grid.predict(X_val_scaled)\n",
    "\n"
   ]
  },
  {
   "cell_type": "code",
   "execution_count": 138,
   "id": "6a3416d3",
   "metadata": {},
   "outputs": [
    {
     "name": "stdout",
     "output_type": "stream",
     "text": [
      "(42, 7)\n",
      "(42, 2)\n"
     ]
    }
   ],
   "source": [
    "# TODO: Reduce dimensions of test data for plotting\n",
    "from sklearn.decomposition import PCA\n",
    "\n",
    "pca = PCA(2)  # project from 7 to 2 dimensions\n",
    "X_val_projected = pca.fit_transform(X_val_scaled)\n",
    "print(X_val_scaled.shape)\n",
    "print(X_val_projected.shape)"
   ]
  },
  {
   "cell_type": "code",
   "execution_count": 139,
   "id": "5317451f",
   "metadata": {},
   "outputs": [
    {
     "data": {
      "text/plain": [
       "<matplotlib.legend.Legend at 0x14928e21b20>"
      ]
     },
     "execution_count": 139,
     "metadata": {},
     "output_type": "execute_result"
    },
    {
     "data": {
      "image/png": "[encoded data removed]",
      "text/plain": [
       "<Figure size 800x550 with 1 Axes>"
      ]
     },
     "metadata": {},
     "output_type": "display_data"
    }
   ],
   "source": [
    "# TODO: Plot test points colored by predicted label\n",
    "for label in set(y_pred):\n",
    "    plt.scatter(X_val_projected[y_pred == label, 0], X_val_projected[y_pred == label, 1],\n",
    "                label=label, alpha=0.5)\n",
    "plt.xlabel('First principal component')\n",
    "plt.ylabel('Second principal component')\n",
    "plt.legend(title='Predicted Labels')"
   ]
  },
  {
   "cell_type": "markdown",
   "id": "296ea401",
   "metadata": {},
   "source": [
    "#### Questions (4 marks)\n",
    "\n",
    "1. Did the logistic regression model work well for this dataset? Why would you make this conclusion? *(2 marks)*\n",
    "\n",
    "\n",
    "1. Did PCA work well for this model? How does this relate to the results from the model used? *(2 marks)*\n",
    "\n",
    "Answers:\n",
    "1. Logistic Regression worked well, this can be seen by the testing score being 0.95 which means the model is accurate and generalized.\n",
    "\n",
    "2. PCA worked well, you can see in the plot that the data is grouped well into the 3 types. This shows that the data fits well to a linear model."
   ]
  },
  {
   "cell_type": "markdown",
   "id": "c88a3cf1",
   "metadata": {},
   "source": [
    "### Process Description (4 marks)\n",
    "Please describe the process you used to create your code. Cite any websites or generative AI tools used. You can use the following questions as guidance:\n",
    "1. Where did you source your code?\n",
    "1. In what order did you complete the steps?\n",
    "1. If you used generative AI, what prompts did you use? Did you need to modify the code at all? Why or why not?\n",
    "1. Did you have any challenges? If yes, what were they? If not, what helped you to be successful?\n",
    "\n",
    "Answers:\n",
    "1.  - https://chat.openai.com\n",
    "    - https://scikit-learn.org/stable/modules/generated/sklearn.linear_model.LogisticRegression.html\n",
    "    - https://archive.ics.uci.edu/dataset/236/seeds\n",
    "    \n",
    "1. I completed the steps in order from 1-5\n",
    "\n",
    "1. I just used generative AI to figure out how to create a legend instead of a colorbar in PCA, I modified the code to use a loop to plot the scatter instead of a static plot.\n",
    "\n",
    "1. No challenges, the course notes and previous assignments were good references for my to use."
   ]
  },
  {
   "cell_type": "markdown",
   "id": "d8336341",
   "metadata": {},
   "source": [
    "*DESCRIBE YOUR PROCESS HERE*"
   ]
  },
  {
   "cell_type": "markdown",
   "id": "3bf578b1",
   "metadata": {},
   "source": [
    "## Part 2. Implement clustering (20 marks)"
   ]
  },
  {
   "cell_type": "markdown",
   "id": "937cb37b",
   "metadata": {},
   "source": [
    "The agricultural company approaches you again because they lost all the labels for their data. Use the Kmeans clustering method to assign labels to the seeds dataset used in Part 1."
   ]
  },
  {
   "cell_type": "markdown",
   "id": "980c62e1",
   "metadata": {},
   "source": [
    "### Step 1: Cluster using original data (6 marks)\n",
    "\n",
    "This part of the assignment asks you to implement Kmeans clustering using the orginal feature matrix (after scaling has been performed). "
   ]
  },
  {
   "cell_type": "code",
   "execution_count": 140,
   "id": "e2c441df",
   "metadata": {},
   "outputs": [],
   "source": [
    "\n",
    "# TODO: Scale feature matrix\n",
    "scaler.fit(X)\n",
    "X_scaled = scaler.transform(X)"
   ]
  },
  {
   "cell_type": "markdown",
   "id": "6efb7a1b",
   "metadata": {},
   "source": [
    "The first step is to use the elbow method to determine the optimal number of clusters. In this case, you can use the distortion metric."
   ]
  },
  {
   "cell_type": "code",
   "execution_count": 141,
   "id": "5f85da0b",
   "metadata": {},
   "outputs": [
    {
     "name": "stderr",
     "output_type": "stream",
     "text": [
      "c:\\Users\\cigle\\anaconda3real\\envs\\ensf-ml\\lib\\site-packages\\sklearn\\cluster\\_kmeans.py:1436: UserWarning: KMeans is known to have a memory leak on Windows with MKL, when there are less chunks than available threads. You can avoid it by setting the environment variable OMP_NUM_THREADS=1.\n",
      "  warnings.warn(\n",
      "c:\\Users\\cigle\\anaconda3real\\envs\\ensf-ml\\lib\\site-packages\\sklearn\\cluster\\_kmeans.py:1436: UserWarning: KMeans is known to have a memory leak on Windows with MKL, when there are less chunks than available threads. You can avoid it by setting the environment variable OMP_NUM_THREADS=1.\n",
      "  warnings.warn(\n",
      "c:\\Users\\cigle\\anaconda3real\\envs\\ensf-ml\\lib\\site-packages\\sklearn\\cluster\\_kmeans.py:1436: UserWarning: KMeans is known to have a memory leak on Windows with MKL, when there are less chunks than available threads. You can avoid it by setting the environment variable OMP_NUM_THREADS=1.\n",
      "  warnings.warn(\n",
      "c:\\Users\\cigle\\anaconda3real\\envs\\ensf-ml\\lib\\site-packages\\sklearn\\cluster\\_kmeans.py:1436: UserWarning: KMeans is known to have a memory leak on Windows with MKL, when there are less chunks than available threads. You can avoid it by setting the environment variable OMP_NUM_THREADS=1.\n",
      "  warnings.warn(\n",
      "c:\\Users\\cigle\\anaconda3real\\envs\\ensf-ml\\lib\\site-packages\\sklearn\\cluster\\_kmeans.py:1436: UserWarning: KMeans is known to have a memory leak on Windows with MKL, when there are less chunks than available threads. You can avoid it by setting the environment variable OMP_NUM_THREADS=1.\n",
      "  warnings.warn(\n",
      "c:\\Users\\cigle\\anaconda3real\\envs\\ensf-ml\\lib\\site-packages\\sklearn\\cluster\\_kmeans.py:1436: UserWarning: KMeans is known to have a memory leak on Windows with MKL, when there are less chunks than available threads. You can avoid it by setting the environment variable OMP_NUM_THREADS=1.\n",
      "  warnings.warn(\n",
      "c:\\Users\\cigle\\anaconda3real\\envs\\ensf-ml\\lib\\site-packages\\sklearn\\cluster\\_kmeans.py:1436: UserWarning: KMeans is known to have a memory leak on Windows with MKL, when there are less chunks than available threads. You can avoid it by setting the environment variable OMP_NUM_THREADS=1.\n",
      "  warnings.warn(\n",
      "c:\\Users\\cigle\\anaconda3real\\envs\\ensf-ml\\lib\\site-packages\\sklearn\\cluster\\_kmeans.py:1436: UserWarning: KMeans is known to have a memory leak on Windows with MKL, when there are less chunks than available threads. You can avoid it by setting the environment variable OMP_NUM_THREADS=1.\n",
      "  warnings.warn(\n"
     ]
    },
    {
     "data": {
      "image/png": "[encoded data removed]",
      "text/plain": [
       "<Figure size 800x550 with 1 Axes>"
      ]
     },
     "metadata": {},
     "output_type": "display_data"
    }
   ],
   "source": [
    "\n",
    "# # TODO: Use the elbow method to determine the optimal number of clusters\n",
    "\n",
    "from yellowbrick.cluster.elbow import kelbow_visualizer\n",
    "ke=kelbow_visualizer(KMeans(random_state=4, n_init=10), X_scaled, k=(2,10), \n",
    "                  metric='distortion',\n",
    "                 timings=False)"
   ]
  },
  {
   "cell_type": "markdown",
   "id": "be361544",
   "metadata": {},
   "source": [
    "\n",
    "\n",
    "Next, implement Kmeans and calculate the following validation metrics:\n",
    "- Silhouette score\n",
    "- Calinski-Harabasz score\n",
    "- Davies-Bouldin score"
   ]
  },
  {
   "cell_type": "code",
   "execution_count": 142,
   "id": "da40bf77",
   "metadata": {},
   "outputs": [
    {
     "name": "stderr",
     "output_type": "stream",
     "text": [
      "c:\\Users\\cigle\\anaconda3real\\envs\\ensf-ml\\lib\\site-packages\\sklearn\\cluster\\_kmeans.py:1412: FutureWarning: The default value of `n_init` will change from 10 to 'auto' in 1.4. Set the value of `n_init` explicitly to suppress the warning\n",
      "  super()._check_params_vs_input(X, default_n_init=10)\n",
      "c:\\Users\\cigle\\anaconda3real\\envs\\ensf-ml\\lib\\site-packages\\sklearn\\cluster\\_kmeans.py:1436: UserWarning: KMeans is known to have a memory leak on Windows with MKL, when there are less chunks than available threads. You can avoid it by setting the environment variable OMP_NUM_THREADS=1.\n",
      "  warnings.warn(\n"
     ]
    },
    {
     "data": {
      "text/plain": [
       "(3, 7)"
      ]
     },
     "execution_count": 142,
     "metadata": {},
     "output_type": "execute_result"
    }
   ],
   "source": [
    "# TODO: Implement K-means with the number of clusters determined in the previous step\n",
    "kmean_model = KMeans(n_clusters= 3, random_state= 0).fit(X_scaled)\n",
    "clusters = kmean_model.predict(X_scaled)\n",
    "kmean_model.cluster_centers_.shape"
   ]
  },
  {
   "cell_type": "code",
   "execution_count": 143,
   "id": "085dc51c",
   "metadata": {},
   "outputs": [
    {
     "name": "stdout",
     "output_type": "stream",
     "text": [
      "Distorsion: 430.66\n",
      "Silhouette Score: 0.40\n",
      "Calinski Harabasz Score: 249.78\n"
     ]
    }
   ],
   "source": [
    "# TODO: Calculate the three different validation metrics\n",
    "from sklearn.metrics import silhouette_score\n",
    "from sklearn.metrics import calinski_harabasz_score\n",
    "\n",
    "print(f'Distorsion: {kmean_model.inertia_:.2f}')\n",
    "print(f'Silhouette Score: {silhouette_score(X_scaled, kmean_model.labels_):.2f}')\n",
    "print(f'Calinski Harabasz Score: {calinski_harabasz_score(X_scaled, kmean_model.labels_):.2f}')"
   ]
  },
  {
   "cell_type": "markdown",
   "id": "40e40c04",
   "metadata": {},
   "source": [
    "Plot the clustering results using PCA. Remember to color each data point based on the cluster label."
   ]
  },
  {
   "cell_type": "code",
   "execution_count": 144,
   "id": "47012908",
   "metadata": {},
   "outputs": [
    {
     "data": {
      "text/plain": [
       "<matplotlib.legend.Legend at 0x1492794a970>"
      ]
     },
     "execution_count": 144,
     "metadata": {},
     "output_type": "execute_result"
    },
    {
     "data": {
      "image/png": "[encoded data removed]",
      "text/plain": [
       "<Figure size 800x550 with 1 Axes>"
      ]
     },
     "metadata": {},
     "output_type": "display_data"
    }
   ],
   "source": [
    "# TODO: Plot clustering result\n",
    "\n",
    "\n",
    "pca = PCA()\n",
    "projected = pca.fit_transform(X_scaled)\n",
    "\n",
    "for label in set(clusters):\n",
    "    plt.scatter(projected[clusters == label, 0], projected[clusters == label, 1],\n",
    "                label=label, alpha=0.5)\n",
    "\n",
    "plt.xlabel('X0')\n",
    "plt.ylabel('X1')\n",
    "plt.legend(title='Predicted Labels')\n",
    "\n",
    "\n"
   ]
  },
  {
   "cell_type": "markdown",
   "id": "48df428e",
   "metadata": {},
   "source": [
    "### Step 2: Cluster using PCA-transformed data (4 marks)\n",
    "\n",
    "Implement Kmeans clustering using PCA-transformed data. The first step is to use the explained variance ratio to find the number of components required to explain at least 95% of the variance."
   ]
  },
  {
   "cell_type": "code",
   "execution_count": 145,
   "id": "de0a5d80",
   "metadata": {},
   "outputs": [
    {
     "name": "stdout",
     "output_type": "stream",
     "text": [
      "2 components needed to get the number of components for 95% of the variance\n"
     ]
    },
    {
     "data": {
      "image/png": "[encoded data removed]",
      "text/plain": [
       "<Figure size 800x550 with 1 Axes>"
      ]
     },
     "metadata": {},
     "output_type": "display_data"
    }
   ],
   "source": [
    "# TODO: Find the number of principal components using explained variance ratio\n",
    "plt.plot(np.cumsum(pca.explained_variance_ratio_))\n",
    "plt.grid(True)\n",
    "plt.xlabel('number of components')\n",
    "plt.ylabel('cumulative explained variance')\n",
    "\n",
    "#n_clusters where the cumulative explained variance is greater than or equal to 0.95\n",
    "print(np.argmax(np.cumsum(pca.explained_variance_ratio_) >= 0.95) , \"components needed to get the number of components for 95% of the variance\")\n"
   ]
  },
  {
   "cell_type": "markdown",
   "id": "8af06a41",
   "metadata": {},
   "source": [
    "Next, transform the data using PCA, implement Kmeans and calculate the three validation metrics used in the previous step."
   ]
  },
  {
   "cell_type": "code",
   "execution_count": 146,
   "id": "3ed38b89",
   "metadata": {},
   "outputs": [],
   "source": [
    "# TODO: Use PCA to transform the data\n",
    "pca = PCA(n_components= 2)\n",
    "projected_2 = pca.fit_transform(X_scaled)"
   ]
  },
  {
   "cell_type": "code",
   "execution_count": 147,
   "id": "cc8b981e",
   "metadata": {},
   "outputs": [
    {
     "name": "stderr",
     "output_type": "stream",
     "text": [
      "c:\\Users\\cigle\\anaconda3real\\envs\\ensf-ml\\lib\\site-packages\\sklearn\\cluster\\_kmeans.py:1412: FutureWarning: The default value of `n_init` will change from 10 to 'auto' in 1.4. Set the value of `n_init` explicitly to suppress the warning\n",
      "  super()._check_params_vs_input(X, default_n_init=10)\n",
      "c:\\Users\\cigle\\anaconda3real\\envs\\ensf-ml\\lib\\site-packages\\sklearn\\cluster\\_kmeans.py:1436: UserWarning: KMeans is known to have a memory leak on Windows with MKL, when there are less chunks than available threads. You can avoid it by setting the environment variable OMP_NUM_THREADS=1.\n",
      "  warnings.warn(\n"
     ]
    }
   ],
   "source": [
    "# TODO: Implement K-means with the transformed data\n",
    "kmean_model2 = KMeans(n_clusters= 3, random_state= 0).fit(projected_2)\n",
    "clusters2 = kmean_model2.predict(projected_2)"
   ]
  },
  {
   "cell_type": "code",
   "execution_count": 152,
   "id": "f5a3bf4b",
   "metadata": {},
   "outputs": [
    {
     "name": "stdout",
     "output_type": "stream",
     "text": [
      "Distorsion: 270.33\n",
      "Silhouette Score: 0.49\n",
      "Calinski Harabasz Score: 397.30\n"
     ]
    }
   ],
   "source": [
    "# TODO: Calculate the three different validation metrics\n",
    "\n",
    "print(f'Distorsion: {kmean_model2.inertia_:.2f}')\n",
    "print(f'Silhouette Score: {silhouette_score(projected_2, kmean_model2.labels_):.2f}')\n",
    "print(f'Calinski Harabasz Score: {calinski_harabasz_score(projected_2, kmean_model2.labels_):.2f}')"
   ]
  },
  {
   "cell_type": "markdown",
   "id": "50eb5219",
   "metadata": {},
   "source": [
    "### Step 3: Display results (2 marks)\n",
    "\n",
    "Print the results for Steps 2 and 3 in a table. Include column and row labels"
   ]
  },
  {
   "cell_type": "code",
   "execution_count": 153,
   "id": "6c945947",
   "metadata": {},
   "outputs": [
    {
     "data": {
      "text/html": [
       "<div>\n",
       "<style scoped>\n",
       "    .dataframe tbody tr th:only-of-type {\n",
       "        vertical-align: middle;\n",
       "    }\n",
       "\n",
       "    .dataframe tbody tr th {\n",
       "        vertical-align: top;\n",
       "    }\n",
       "\n",
       "    .dataframe thead th {\n",
       "        text-align: right;\n",
       "    }\n",
       "</style>\n",
       "<table border=\"1\" class=\"dataframe\">\n",
       "  <thead>\n",
       "    <tr style=\"text-align: right;\">\n",
       "      <th></th>\n",
       "      <th>Distorsion</th>\n",
       "      <th>Silhouette Score</th>\n",
       "      <th>Calinski Harabasz Score</th>\n",
       "    </tr>\n",
       "    <tr>\n",
       "      <th>Model</th>\n",
       "      <th></th>\n",
       "      <th></th>\n",
       "      <th></th>\n",
       "    </tr>\n",
       "  </thead>\n",
       "  <tbody>\n",
       "    <tr>\n",
       "      <th>KMeans No-PCA</th>\n",
       "      <td>430.658973</td>\n",
       "      <td>0.400727</td>\n",
       "      <td>249.784175</td>\n",
       "    </tr>\n",
       "    <tr>\n",
       "      <th>KMeans Using PCA</th>\n",
       "      <td>270.331693</td>\n",
       "      <td>0.493430</td>\n",
       "      <td>397.301078</td>\n",
       "    </tr>\n",
       "  </tbody>\n",
       "</table>\n",
       "</div>"
      ],
      "text/plain": [
       "                  Distorsion  Silhouette Score  Calinski Harabasz Score\n",
       "Model                                                                  \n",
       "KMeans No-PCA     430.658973          0.400727               249.784175\n",
       "KMeans Using PCA  270.331693          0.493430               397.301078"
      ]
     },
     "execution_count": 153,
     "metadata": {},
     "output_type": "execute_result"
    }
   ],
   "source": [
    "# TODO: Display results\n",
    "\n",
    "results = pd.DataFrame({\n",
    "    'Model': ['KMeans No-PCA', 'KMeans Using PCA'],\n",
    "    'Distorsion': [kmean_model.inertia_, kmean_model2.inertia_],\n",
    "    'Silhouette Score': [silhouette_score(X_scaled, kmean_model.labels_), silhouette_score(projected_2, kmean_model2.labels_)],\n",
    "    'Calinski Harabasz Score': [calinski_harabasz_score(X_scaled, kmean_model.labels_), calinski_harabasz_score(projected_2, kmean_model2.labels_)]\n",
    "})\n",
    "results.set_index('Model', inplace= True)\n",
    "\n",
    "results"
   ]
  },
  {
   "cell_type": "markdown",
   "id": "e1086de9",
   "metadata": {},
   "source": [
    "#### Questions (4 marks)\n",
    "\n",
    "1. Did the optimal number of clusters make sense based on the context? *(1 mark)*\n",
    "1. Compare the PCA plot from Part 2 step 1 to the PCA plot from Part 1. Did we get similar results? *(1 mark)*\n",
    "1. How many components did you use for the PCA analysis? Did using PCA improve your results? Why or why not? *(2 marks)*\n",
    "\n",
    "\n",
    "Answers:\n",
    "1. Yes, optimal was 3 clusters and the dataset had 3 varieties of wheat.\n",
    "2. Yes, the plots showed that both plots showed similar divisions.\n",
    "3. I used 2 component which were all the components that explained 95% of the variance. All of my results improved. This is because reducing how many \n",
    "features there are decreased complexity and improved clustering accurancy (model was not trying to 'overthink' the results when they weren't relavent). \n",
    "PCA likely reduced noised and imporved regularization."
   ]
  },
  {
   "cell_type": "markdown",
   "id": "521489ee",
   "metadata": {},
   "source": [
    "### Process Description (4 marks)\n",
    "Please describe the process you used to create your code. Cite any websites or generative AI tools used. You can use the following questions as guidance:\n",
    "1. Where did you source your code?\n",
    "1. In what order did you complete the steps?\n",
    "1. If you used generative AI, what prompts did you use? Did you need to modify the code at all? Why or why not?\n",
    "1. Did you have any challenges? If yes, what were they? If not, what helped you to be successful?\n",
    "\n",
    "Answers:\n",
    "1.  - https://chat.openai.com\n",
    "    - https://scikit-learn.org/stable/modules/generated/sklearn.cluster.KMeans.html\n",
    "    - https://archive.ics.uci.edu/dataset/236/seeds\n",
    "    \n",
    "1. I completed the steps in order from 1-3\n",
    "\n",
    "1. I just used generative AI to do some debugging when my code didn't want to work for me.\n",
    "\n",
    "1. No challenges, the course notes and previous assignments were good references for my to use."
   ]
  },
  {
   "cell_type": "markdown",
   "id": "e4ae4b12",
   "metadata": {},
   "source": [
    "*DESCRIBE YOUR PROCESS HERE*"
   ]
  },
  {
   "cell_type": "markdown",
   "id": "05e42ec7",
   "metadata": {},
   "source": [
    "## Part 3: Reflection (2 marks)\n",
    "Include a sentence or two about:\n",
    "- what you liked or disliked,\n",
    "- found interesting, confusing, challangeing, motivating\n",
    "while working on this assignment.\n",
    "\n",
    "\n",
    "Answers:\n",
    "I found the questions and instructions pretty vague and hard to understand, I hope that I did everything in the way that wsas expected but the instructions seemed unclear for some parts. \n",
    "\n",
    "I found figuring out PCA slightly challenging but really fun and interesting."
   ]
  }
 ],
 "metadata": {
  "kernelspec": {
   "display_name": "Python 3 (ipykernel)",
   "language": "python",
   "name": "python3"
  },
  "language_info": {
   "codemirror_mode": {
    "name": "ipython",
    "version": 3
   },
   "file_extension": ".py",
   "mimetype": "text/x-python",
   "name": "python",
   "nbconvert_exporter": "python",
   "pygments_lexer": "ipython3",
   "version": "3.8.17"
  }
 },
 "nbformat": 4,
 "nbformat_minor": 5
}
